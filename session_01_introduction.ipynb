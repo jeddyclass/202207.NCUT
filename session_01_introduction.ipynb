{
  "nbformat": 4,
  "nbformat_minor": 0,
  "metadata": {
    "colab": {
      "name": "session-01-introduction.ipynb",
      "provenance": [],
      "collapsed_sections": [],
      "authorship_tag": "ABX9TyNzW/7vZbEGjoHTHu+yIeU5",
      "include_colab_link": true
    },
    "kernelspec": {
      "name": "python3",
      "display_name": "Python 3"
    },
    "language_info": {
      "name": "python"
    }
  },
  "cells": [
    {
      "cell_type": "markdown",
      "metadata": {
        "id": "view-in-github",
        "colab_type": "text"
      },
      "source": [
        "<a href=\"https://colab.research.google.com/github/jeddyclass/202207.NCUT/blob/main/session_01_introduction.ipynb\" target=\"_parent\"><img src=\"https://colab.research.google.com/assets/colab-badge.svg\" alt=\"Open In Colab\"/></a>"
      ]
    },
    {
      "cell_type": "markdown",
      "source": [
        "**The Big Picture**"
      ],
      "metadata": {
        "id": "1Sk5Lra-1qIL"
      }
    },
    {
      "cell_type": "markdown",
      "source": [
        "資料應用（資料分析、資料科學）是一門綜合性的學科、工作，它不會是指單一的工作技能。\n",
        "\n",
        "由Cathy O'Neill 所撰寫的「[Doing Data Science](https://www.amazon.com/Doing-Data-Science-Straight-Frontline/dp/1449358659)」一書所舉出的說明，列出了以一個專案來看，一個資料分析至少會含蓋：「Data Viz（可視化）」、「Machine Learning（機器學習；深度學習）」、「Mathematics（數學專門技術）」、「Statistics（統計專門技術）」、「Computer Science（電腦科學專門技術）」、「Communication（溝通技藝）」、「Domain Expertise（領域專家）」等。"
      ],
      "metadata": {
        "id": "tQLnx0cL1-GR"
      }
    },
    {
      "cell_type": "code",
      "source": [
        ""
      ],
      "metadata": {
        "id": "dYz9tAoP1sUj"
      },
      "execution_count": null,
      "outputs": []
    }
  ]
}