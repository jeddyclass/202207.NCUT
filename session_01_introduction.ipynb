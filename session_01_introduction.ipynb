{
  "nbformat": 4,
  "nbformat_minor": 0,
  "metadata": {
    "colab": {
      "name": "session-01-introduction.ipynb",
      "provenance": [],
      "collapsed_sections": [],
      "authorship_tag": "ABX9TyNouF4N5qTmxOPSWOER29XL",
      "include_colab_link": true
    },
    "kernelspec": {
      "name": "python3",
      "display_name": "Python 3"
    },
    "language_info": {
      "name": "python"
    }
  },
  "cells": [
    {
      "cell_type": "markdown",
      "metadata": {
        "id": "view-in-github",
        "colab_type": "text"
      },
      "source": [
        "<a href=\"https://colab.research.google.com/github/jeddyclass/202207.NCUT/blob/main/session_01_introduction.ipynb\" target=\"_parent\"><img src=\"https://colab.research.google.com/assets/colab-badge.svg\" alt=\"Open In Colab\"/></a>"
      ]
    },
    {
      "cell_type": "markdown",
      "source": [
        "**The Big Picture**"
      ],
      "metadata": {
        "id": "1Sk5Lra-1qIL"
      }
    },
    {
      "cell_type": "markdown",
      "source": [
        "資料應用（資料分析、資料科學）是一門綜合性的學科、工作，它不會是指單一的工作技能。\n",
        "\n",
        "由Cathy O'Neill 所撰寫的「[Doing Data Science](https://www.amazon.com/Doing-Data-Science-Straight-Frontline/dp/1449358659)」一書所舉出的說明，列出了以一個專案來看，一個資料分析至少會含蓋：「Data Viz（可視化）」、「Machine Learning（機器學習；深度學習）」、「Mathematics（數學專門技術）」、「Statistics（統計專門技術）」、「Computer Science（電腦科學專門技術）」、「Communication（溝通技藝）」、「Domain Expertise（領域專家）」等。\n",
        "\n",
        "再由Harlan Harris 所撰寫的「[Analyzing the Analyzers](https://www.oreilly.com/library/view/doing-data-science/9781449363871/ch01.html)」得到一個很寶貴的分類，我們以為在資料分析工作中佔最大一部份的工作是「寫程式」，然而，透過Harlan Harris 所列出的項目，最大的一部份工作是資料如何呈現它的價值，也就是利用數據資料來導證出資料本身的意義。在Harlan Harris 所描述的，統計知識就是扮演最大的部份。時至今日，這項專門技術仍然是最大的主流分析方法、手段，至於其它的技術如：機器學習、深度學習、人工智慧等等，也是逐日加重它的價值。不過，我們看待這樣的分類，要留意，整體上看來是兩個維度（Data Research vs. Statistics）在定義的，不可以偏頗地只以為單一技術就是唯一重點。"
      ],
      "metadata": {
        "id": "tQLnx0cL1-GR"
      }
    },
    {
      "cell_type": "markdown",
      "source": [
        "**Overstatement**"
      ],
      "metadata": {
        "id": "jjdgrNgrsjFk"
      }
    },
    {
      "cell_type": "markdown",
      "source": [
        "在林英祥博士所著「[從創新到暢銷](https://www.books.com.tw/products/0010616603)」一書中，有提到一個有趣的例子，有關於如何看懂什麼是「誇大其詞」。「[從創新到暢銷](https://www.books.com.tw/products/0010616603)」這本書講的是林博士所發展出來的統計分析流程、模型，應用於新產品上市的估計，在他長達四十餘年的建構中，有一個插曲值得拿出來分享。\n",
        "\n",
        "在他的經驗中，每個洲、每個國家、每個地區，不同人種、不同文化，各類宗教，關於「預期購買行為」與「實際購買行為」在類比中，會發現有顯著的不同。在這裏，我們先不談統計上的顯著因子、分佈狀態或是學理的精細對應，只先看大概。\n",
        "\n",
        "林博士採用「問卷」方式來收集「預期購買行為」的資訊，並且在同商品上市後，再次以「問卷」方式來收集「實際購買行為」的資訊。對於價格較低的商品如：罐裝飲品等，與價格較高的商品如：家庭大包裝洗髮精等，某些國家的人回覆的結果不同。像是南歐國家，對於單價低的商品，心理想的跟實際做的差異不大，但是對於單價高的商品，心理想的就跟實際做的差距很大。"
      ],
      "metadata": {
        "id": "7OH4CKvisp6W"
      }
    },
    {
      "cell_type": "code",
      "source": [
        ""
      ],
      "metadata": {
        "id": "jk66hA8iso_a"
      },
      "execution_count": null,
      "outputs": []
    }
  ]
}