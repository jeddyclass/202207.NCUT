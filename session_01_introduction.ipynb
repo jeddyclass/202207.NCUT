{
  "nbformat": 4,
  "nbformat_minor": 0,
  "metadata": {
    "colab": {
      "name": "session-01-introduction.ipynb",
      "provenance": [],
      "collapsed_sections": [],
      "authorship_tag": "ABX9TyO/LVyRSdIKmArTkNK83C9O",
      "include_colab_link": true
    },
    "kernelspec": {
      "name": "python3",
      "display_name": "Python 3"
    },
    "language_info": {
      "name": "python"
    }
  },
  "cells": [
    {
      "cell_type": "markdown",
      "metadata": {
        "id": "view-in-github",
        "colab_type": "text"
      },
      "source": [
        "<a href=\"https://colab.research.google.com/github/jeddyclass/202207.NCUT/blob/main/session_01_introduction.ipynb\" target=\"_parent\"><img src=\"https://colab.research.google.com/assets/colab-badge.svg\" alt=\"Open In Colab\"/></a>"
      ]
    },
    {
      "cell_type": "markdown",
      "source": [
        "**The Big Picture**"
      ],
      "metadata": {
        "id": "1Sk5Lra-1qIL"
      }
    },
    {
      "cell_type": "markdown",
      "source": [
        "資料應用（資料分析、資料科學）是一門綜合性的學科、工作，它不會是指單一的工作技能。"
      ],
      "metadata": {
        "id": "tQLnx0cL1-GR"
      }
    },
    {
      "cell_type": "code",
      "source": [
        ""
      ],
      "metadata": {
        "id": "dYz9tAoP1sUj"
      },
      "execution_count": null,
      "outputs": []
    }
  ]
}