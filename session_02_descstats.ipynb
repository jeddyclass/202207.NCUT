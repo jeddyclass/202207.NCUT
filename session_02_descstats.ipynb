{
  "nbformat": 4,
  "nbformat_minor": 0,
  "metadata": {
    "colab": {
      "name": "session-02-descstats.ipynb",
      "provenance": [],
      "authorship_tag": "ABX9TyNJS7ZZV6UeuYC0Jsk/jAB2",
      "include_colab_link": true
    },
    "kernelspec": {
      "name": "python3",
      "display_name": "Python 3"
    },
    "language_info": {
      "name": "python"
    }
  },
  "cells": [
    {
      "cell_type": "markdown",
      "metadata": {
        "id": "view-in-github",
        "colab_type": "text"
      },
      "source": [
        "<a href=\"https://colab.research.google.com/github/jeddyclass/202207.NCUT/blob/main/session_02_descstats.ipynb\" target=\"_parent\"><img src=\"https://colab.research.google.com/assets/colab-badge.svg\" alt=\"Open In Colab\"/></a>"
      ]
    },
    {
      "cell_type": "code",
      "execution_count": 11,
      "metadata": {
        "id": "TFwJ74iYs354"
      },
      "outputs": [],
      "source": [
        "import numpy as np\n",
        "import pandas as pd\n",
        "import matplotlib.pyplot as plt\n",
        "import seaborn as sns\n",
        "from sklearn.datasets import load_iris\n",
        "import warnings"
      ]
    },
    {
      "cell_type": "code",
      "source": [
        "#设置seaborn绘图的样式\n",
        "sns.set(style='darkgrid')\n",
        "#plt.rcParams['font.family']='SimHei'\n",
        "plt.rcParams['axes.unicode_minus']=False\n",
        "#忽视警告信息\n",
        "warnings.filterwarnings('ignore')"
      ],
      "metadata": {
        "id": "bVcHPr1kuZ8q"
      },
      "execution_count": 12,
      "outputs": []
    },
    {
      "cell_type": "code",
      "source": [
        "#加载鸢尾花数据集\n",
        "iris=load_iris()\n",
        "#display(iris)\n",
        "#iris.data:鸢尾花数据集\n",
        "#iris.target:每朵鸢尾花对应的类别。（取值为0，1，2）\n",
        "print(iris.data[:10],iris.target[:10])\n",
        "#iris.feature_names:特征列的名称。\n",
        "#iris.target_name:鸢尾花类别的名称。\n",
        "print(iris.feature_names,iris.target_names)"
      ],
      "metadata": {
        "colab": {
          "base_uri": "https://localhost:8080/"
        },
        "id": "7J9DZxj0uc5v",
        "outputId": "cef39ee0-a15d-4830-bd68-9c8746dd40f5"
      },
      "execution_count": 13,
      "outputs": [
        {
          "output_type": "stream",
          "name": "stdout",
          "text": [
            "[[5.1 3.5 1.4 0.2]\n",
            " [4.9 3.  1.4 0.2]\n",
            " [4.7 3.2 1.3 0.2]\n",
            " [4.6 3.1 1.5 0.2]\n",
            " [5.  3.6 1.4 0.2]\n",
            " [5.4 3.9 1.7 0.4]\n",
            " [4.6 3.4 1.4 0.3]\n",
            " [5.  3.4 1.5 0.2]\n",
            " [4.4 2.9 1.4 0.2]\n",
            " [4.9 3.1 1.5 0.1]] [0 0 0 0 0 0 0 0 0 0]\n",
            "['sepal length (cm)', 'sepal width (cm)', 'petal length (cm)', 'petal width (cm)'] ['setosa' 'versicolor' 'virginica']\n"
          ]
        }
      ]
    },
    {
      "cell_type": "code",
      "source": [
        "#将鸢尾花数据与对应的类型合并，组合成完整的记录。\n",
        "data=np.concatenate([iris.data,iris.target.reshape(-1,1)],axis=1)\n",
        "print(type(data))\n",
        "print(data[:10])\n",
        "print(data.dtype)\n",
        "data=pd.DataFrame(data,\n",
        "columns=['sepal_length','sepal_width','petal_length','petal_width','type'])\n",
        "print(type(data))\n",
        "data.sample(10)\n",
        "print(data.head())\n",
        "data.info()"
      ],
      "metadata": {
        "colab": {
          "base_uri": "https://localhost:8080/"
        },
        "id": "GOs8Y1JJufTA",
        "outputId": "193ed040-5265-49f2-a730-e5d321cae8c8"
      },
      "execution_count": 14,
      "outputs": [
        {
          "output_type": "stream",
          "name": "stdout",
          "text": [
            "<class 'numpy.ndarray'>\n",
            "[[5.1 3.5 1.4 0.2 0. ]\n",
            " [4.9 3.  1.4 0.2 0. ]\n",
            " [4.7 3.2 1.3 0.2 0. ]\n",
            " [4.6 3.1 1.5 0.2 0. ]\n",
            " [5.  3.6 1.4 0.2 0. ]\n",
            " [5.4 3.9 1.7 0.4 0. ]\n",
            " [4.6 3.4 1.4 0.3 0. ]\n",
            " [5.  3.4 1.5 0.2 0. ]\n",
            " [4.4 2.9 1.4 0.2 0. ]\n",
            " [4.9 3.1 1.5 0.1 0. ]]\n",
            "float64\n",
            "<class 'pandas.core.frame.DataFrame'>\n",
            "   sepal_length  sepal_width  petal_length  petal_width  type\n",
            "0           5.1          3.5           1.4          0.2   0.0\n",
            "1           4.9          3.0           1.4          0.2   0.0\n",
            "2           4.7          3.2           1.3          0.2   0.0\n",
            "3           4.6          3.1           1.5          0.2   0.0\n",
            "4           5.0          3.6           1.4          0.2   0.0\n",
            "<class 'pandas.core.frame.DataFrame'>\n",
            "RangeIndex: 150 entries, 0 to 149\n",
            "Data columns (total 5 columns):\n",
            " #   Column        Non-Null Count  Dtype  \n",
            "---  ------        --------------  -----  \n",
            " 0   sepal_length  150 non-null    float64\n",
            " 1   sepal_width   150 non-null    float64\n",
            " 2   petal_length  150 non-null    float64\n",
            " 3   petal_width   150 non-null    float64\n",
            " 4   type          150 non-null    float64\n",
            "dtypes: float64(5)\n",
            "memory usage: 6.0 KB\n"
          ]
        }
      ]
    },
    {
      "cell_type": "code",
      "source": [
        "#分析\n",
        "#计算鸢尾花数据中，每个类别出现的频数\n",
        "frequency=data['type'].value_counts()\n",
        "print(frequency)\n",
        "print(type(frequency))\n",
        "#计算每个类别出现的频率\n",
        "percentage=frequency*100/len(data)\n",
        "print(percentage)"
      ],
      "metadata": {
        "colab": {
          "base_uri": "https://localhost:8080/"
        },
        "id": "PiO51uQHuiUQ",
        "outputId": "9eae1038-3192-4629-bb39-1a17ba8ae230"
      },
      "execution_count": 15,
      "outputs": [
        {
          "output_type": "stream",
          "name": "stdout",
          "text": [
            "0.0    50\n",
            "1.0    50\n",
            "2.0    50\n",
            "Name: type, dtype: int64\n",
            "<class 'pandas.core.series.Series'>\n",
            "0.0    33.333333\n",
            "1.0    33.333333\n",
            "2.0    33.333333\n",
            "Name: type, dtype: float64\n"
          ]
        }
      ]
    },
    {
      "cell_type": "code",
      "source": [
        "frequency.plot(kind='bar')\n",
        "\n",
        "#计算花萼长度的均值\n",
        "mean=data['sepal_length'].mean()\n",
        "#计算花萼长度的中位数\n",
        "median=data['sepal_length'].median()\n",
        "#计算花萼长度的众数\n",
        "s=data['sepal_length'].mode()\n",
        "#注意，model方法返回的是series类型\n",
        "print(type(s))\n",
        "#print(s.info())\n",
        "mode=s.iloc[0]\n",
        "print(mean,median,mode)"
      ],
      "metadata": {
        "colab": {
          "base_uri": "https://localhost:8080/",
          "height": 310
        },
        "id": "GYcA870Aulaz",
        "outputId": "b28ed095-1ba1-4511-dc3d-e0e390368120"
      },
      "execution_count": 16,
      "outputs": [
        {
          "output_type": "stream",
          "name": "stdout",
          "text": [
            "<class 'pandas.core.series.Series'>\n",
            "5.843333333333334 5.8 5.0\n"
          ]
        },
        {
          "output_type": "display_data",
          "data": {
            "text/plain": [
              "<Figure size 432x288 with 1 Axes>"
            ],
            "image/png": "[encoded data removed]"
          },
          "metadata": {}
        }
      ]
    },
    {
      "cell_type": "code",
      "source": [
        "from scipy import stats\n",
        "stats.mode(data['sepal_length']).mode\n",
        "\n",
        "#绘制数据的分布（直方图+密度图）\n",
        "sns.distplot(data['sepal_length'])\n",
        "plt.axvline(mean,ls=\"-\",color='r',label='均值')\n",
        "plt.axvline(median,ls=\"-\",color='g',label='中值')\n",
        "plt.axvline(mean,ls=\"-\",color='indigo',label='众数')\n",
        "plt.legend()"
      ],
      "metadata": {
        "colab": {
          "base_uri": "https://localhost:8080/",
          "height": 302
        },
        "id": "q16BSwG0updi",
        "outputId": "603b6ea9-549d-4f68-9d3a-600af682431a"
      },
      "execution_count": 17,
      "outputs": [
        {
          "output_type": "execute_result",
          "data": {
            "text/plain": [
              "<matplotlib.legend.Legend at 0x7f2a8c303d90>"
            ]
          },
          "metadata": {},
          "execution_count": 17
        },
        {
          "output_type": "display_data",
          "data": {
            "text/plain": [
              "<Figure size 432x288 with 1 Axes>"
            ],
            "image/png": "[encoded data removed]"
          },
          "metadata": {}
        }
      ]
    },
    {
      "cell_type": "code",
      "source": [
        "x=np.arange(10,19)\n",
        "n=len(x)\n",
        "#计算四分位的索引（index）\n",
        "q1_index=(n-1)*0.25\n",
        "q2_index=(n-1)*0.5\n",
        "q3_index=(n-1)*0.75\n",
        "print(q1_index,q2_index,q3_index)\n"
      ],
      "metadata": {
        "colab": {
          "base_uri": "https://localhost:8080/"
        },
        "id": "iAVU7IVIuslk",
        "outputId": "1a8fb9f5-0f34-4874-a5f7-8f01f4cb5dca"
      },
      "execution_count": 18,
      "outputs": [
        {
          "output_type": "stream",
          "name": "stdout",
          "text": [
            "2.0 4.0 6.0\n"
          ]
        }
      ]
    },
    {
      "cell_type": "code",
      "source": [
        "#将index转化成整数类型\n",
        "index=np.array([q1_index,q2_index,q3_index]).astype(np.int32)\n",
        "print(x[index])\n",
        "\n",
        "plt.figure(figsize=(15,4))\n",
        "plt.xticks(x)\n",
        "plt.plot(x,np.zeros(len(x)),ls=\"\",marker='D',ms=15,label='元素值')\n",
        "plt.plot(x[index],np.zeros(len(index)),ls=\"\",marker='X',ms=15,label='四分位值')\n",
        "plt.legend()"
      ],
      "metadata": {
        "colab": {
          "base_uri": "https://localhost:8080/",
          "height": 303
        },
        "id": "m0YPnW3-uwLu",
        "outputId": "585b6e5d-6a2d-4785-e1b5-b093c83789b4"
      },
      "execution_count": 19,
      "outputs": [
        {
          "output_type": "stream",
          "name": "stdout",
          "text": [
            "[12 14 16]\n"
          ]
        },
        {
          "output_type": "execute_result",
          "data": {
            "text/plain": [
              "<matplotlib.legend.Legend at 0x7f2a8c2c1910>"
            ]
          },
          "metadata": {},
          "execution_count": 19
        },
        {
          "output_type": "display_data",
          "data": {
            "text/plain": [
              "<Figure size 1080x288 with 1 Axes>"
            ],
            "image/png": "[encoded data removed]"
          },
          "metadata": {}
        }
      ]
    },
    {
      "cell_type": "code",
      "source": [
        "x=np.arange(10,20)\n",
        "n=len(x)\n",
        "q1_index=(n-1)*0.25\n",
        "q2_index=(n-1)*0.5\n",
        "q3_index=(n-1)*0.75\n",
        "print(q1_index,q2_index,q3_index)"
      ],
      "metadata": {
        "colab": {
          "base_uri": "https://localhost:8080/"
        },
        "id": "3PBC3o7ruyaT",
        "outputId": "bb12ef9a-8352-4285-b2cd-490109eef3eb"
      },
      "execution_count": 20,
      "outputs": [
        {
          "output_type": "stream",
          "name": "stdout",
          "text": [
            "2.25 4.5 6.75\n"
          ]
        }
      ]
    },
    {
      "cell_type": "code",
      "source": [
        "index=np.array([q1_index,q2_index,q3_index])\n",
        "#计算左边元素的值\n",
        "left=np.floor(index).astype(np.int32)\n",
        "#计算右边元素的值\n",
        "right=np.ceil(index).astype(np.int32)\n",
        "#获取index的小数部分与整数部分\n",
        "weight,_=np.modf(index)\n",
        "#根据左右两边的整数，加权计算四分位数的值，权重与距离成反比\n",
        "q=x[left] * (1-weight) + x[right] * weight\n",
        "print(q)"
      ],
      "metadata": {
        "colab": {
          "base_uri": "https://localhost:8080/"
        },
        "id": "bYvdaU3yu1GF",
        "outputId": "5a3e0cfc-1b66-404d-e8b6-9fb75105efb6"
      },
      "execution_count": 21,
      "outputs": [
        {
          "output_type": "stream",
          "name": "stdout",
          "text": [
            "[12.25 14.5  16.75]\n"
          ]
        }
      ]
    },
    {
      "cell_type": "code",
      "source": [
        "plt.figure(figsize=(15,4))\n",
        "plt.xticks(x)\n",
        "plt.plot(x,np.zeros(len(x)),ls=\"\",marker='D',ms=15,label='元素值')\n",
        "plt.plot(q,np.zeros(len(index)),ls=\"\",marker='X',ms=15,label='四分位值')\n",
        "for v in q:\n",
        "  plt.text(v,0.01,s=v,fontsize=15)\n",
        "  plt.legend()"
      ],
      "metadata": {
        "colab": {
          "base_uri": "https://localhost:8080/",
          "height": 268
        },
        "id": "NpRTKa3su3bo",
        "outputId": "899b726b-d5b0-48ac-b08a-2d4fee827eb3"
      },
      "execution_count": 22,
      "outputs": [
        {
          "output_type": "display_data",
          "data": {
            "text/plain": [
              "<Figure size 1080x288 with 1 Axes>"
            ],
            "image/png": "[encoded data removed]"
          },
          "metadata": {}
        }
      ]
    },
    {
      "cell_type": "code",
      "source": [
        "#numpy\n",
        "x = [1, 3, 10, 15, 18, 20, 23, 25]\n",
        "#quantile与percentile都可以就算分位数，不同的是，quantile方法\n",
        "#q（要计算的分位数）的取值范围为【0，1】，而percentile方法，q的\n",
        "#取值范围为【0，100】\n",
        "print(np.quantile(x,q=[0.25,0.5,0.75]))\n",
        "print(np.percentile(x,q=[25,50,75]))\n"
      ],
      "metadata": {
        "colab": {
          "base_uri": "https://localhost:8080/"
        },
        "id": "gbFb32k5u57b",
        "outputId": "f3cff42f-1f75-4590-ab1e-eec339cf3488"
      },
      "execution_count": 23,
      "outputs": [
        {
          "output_type": "stream",
          "name": "stdout",
          "text": [
            "[ 8.25 16.5  20.75]\n",
            "[ 8.25 16.5  20.75]\n"
          ]
        }
      ]
    },
    {
      "cell_type": "code",
      "source": [
        "#pandas\n",
        "x = [1, 3, 10, 15, 18, 20, 23, 25]\n",
        "s=pd.Series(x)\n",
        "print(s.describe())"
      ],
      "metadata": {
        "colab": {
          "base_uri": "https://localhost:8080/"
        },
        "id": "uW2Saw-xu9OU",
        "outputId": "15b03ed8-c860-4514-9c4d-46a59c11b5cd"
      },
      "execution_count": 24,
      "outputs": [
        {
          "output_type": "stream",
          "name": "stdout",
          "text": [
            "count     8.000000\n",
            "mean     14.375000\n",
            "std       8.943274\n",
            "min       1.000000\n",
            "25%       8.250000\n",
            "50%      16.500000\n",
            "75%      20.750000\n",
            "max      25.000000\n",
            "dtype: float64\n"
          ]
        }
      ]
    },
    {
      "cell_type": "code",
      "source": [
        "s.describe(percentiles=[0.25,0.9])\n",
        "\n",
        "#计算极差\n",
        "sub=data['sepal_length'].max()-data['sepal_length'].min()\n",
        "#计算方差\n",
        "var=data['sepal_length'].var()\n",
        "#计算标准差\n",
        "std=data['sepal_length'].std()\n",
        "print(sub, var, std)"
      ],
      "metadata": {
        "colab": {
          "base_uri": "https://localhost:8080/"
        },
        "id": "yrI9I4Vtu_j2",
        "outputId": "567cd3ce-07b8-4360-e60a-a3363e2aa7d1"
      },
      "execution_count": 25,
      "outputs": [
        {
          "output_type": "stream",
          "name": "stdout",
          "text": [
            "3.6000000000000005 0.6856935123042507 0.828066127977863\n"
          ]
        }
      ]
    },
    {
      "cell_type": "code",
      "source": [
        "plt.figure(figsize=(15,4))\n",
        "plt.ylim(-0.5,1.5)\n",
        "#print(data['petal_width'])\n",
        "plt.plot(data['petal_length'], np.zeros(len(data)), ls=\"\", marker='o',ms=10,color='g',label='花瓣长度')\n",
        "plt.plot(data['petal_width'], np.ones(len(data)), ls=\"\", marker='o',ms=10,color='r',label='花瓣宽度')\n",
        "plt.axvline(data['petal_length'].mean(),ls=\"-.\",color='g',label='花瓣长度均值')\n",
        "plt.axvline(data['petal_width'].mean(),ls=\"dashed\",color='r',label='花瓣长度均值')\n",
        "plt.legend()\n"
      ],
      "metadata": {
        "colab": {
          "base_uri": "https://localhost:8080/",
          "height": 289
        },
        "id": "RixTHekUvCte",
        "outputId": "97d08d09-d7aa-4d26-8c2e-27626f9c29f5"
      },
      "execution_count": 27,
      "outputs": [
        {
          "output_type": "execute_result",
          "data": {
            "text/plain": [
              "<matplotlib.legend.Legend at 0x7f2a8c14bf10>"
            ]
          },
          "metadata": {},
          "execution_count": 27
        },
        {
          "output_type": "display_data",
          "data": {
            "text/plain": [
              "<Figure size 1080x288 with 1 Axes>"
            ],
            "image/png": "[encoded data removed]"
          },
          "metadata": {}
        }
      ]
    },
    {
      "cell_type": "code",
      "source": [
        "#构造左偏分布数据\n",
        "t1=np.random.randint(1,11,size=100)\n",
        "t2=np.random.randint(11,21,size=500)\n",
        "t3=np.concatenate([t1,t2])\n",
        "left_skew=pd.Series(t3)\n",
        "#构造右偏分布数据\n",
        "t1=np.random.randint(1,11,size=500)\n",
        "t2=np.random.randint(11,21,size=100)\n",
        "t3=np.concatenate([t1,t2])\n",
        "right_skew=pd.Series(t3)"
      ],
      "metadata": {
        "id": "p06cnZ-EvF-C"
      },
      "execution_count": 28,
      "outputs": []
    },
    {
      "cell_type": "code",
      "source": [
        "#计算偏度\n",
        "print(left_skew.skew(),right_skew.skew())\n",
        "#绘制核密度图 =概率密度图\n",
        "sns.kdeplot(left_skew,shade=True,label='左偏')\n",
        "sns.kdeplot(right_skew,shade=True,label='右偏')\n",
        "plt.legend()"
      ],
      "metadata": {
        "colab": {
          "base_uri": "https://localhost:8080/",
          "height": 303
        },
        "id": "i-W-XnMrvU-A",
        "outputId": "5c6d4259-c0df-4edc-b00f-960d9704c1c0"
      },
      "execution_count": 29,
      "outputs": [
        {
          "output_type": "stream",
          "name": "stdout",
          "text": [
            "-0.8640348494493973 0.8516045575425706\n"
          ]
        },
        {
          "output_type": "execute_result",
          "data": {
            "text/plain": [
              "<matplotlib.legend.Legend at 0x7f2a8c0c20d0>"
            ]
          },
          "metadata": {},
          "execution_count": 29
        },
        {
          "output_type": "display_data",
          "data": {
            "text/plain": [
              "<Figure size 432x288 with 1 Axes>"
            ],
            "image/png": "[encoded data removed]"
          },
          "metadata": {}
        }
      ]
    },
    {
      "cell_type": "code",
      "source": [
        "#标准正态分布\n",
        "standard_normal=pd.Series(np.random.normal(0,1,size=100000))\n",
        "print('标准正态分布峰度：',standard_normal.kurt(), '标准差:',standard_normal.std())\n",
        "print('花萼宽度峰度：',data['sepal_width'].kurt(),'标准差:',data['sepal_width'].std())\n",
        "print('花瓣长度峰度：',data['petal_length'].kurt(),'标准差:',data['petal_length'].std())\n",
        "sns.kdeplot(standard_normal,label='标准正态分布')\n",
        "sns.kdeplot(data['sepal_width'],label='花萼宽度')\n",
        "sns.kdeplot(data['petal_length'],label='花瓣长度')"
      ],
      "metadata": {
        "colab": {
          "base_uri": "https://localhost:8080/",
          "height": 354
        },
        "id": "D--nu_oWvXYm",
        "outputId": "66a083e1-a9be-4003-db70-1abd627cedf8"
      },
      "execution_count": 30,
      "outputs": [
        {
          "output_type": "stream",
          "name": "stdout",
          "text": [
            "标准正态分布峰度： -0.009140296154097616 标准差: 0.9985584907664583\n",
            "花萼宽度峰度： 0.2282490424681929 标准差: 0.4358662849366982\n",
            "花瓣长度峰度： -1.4021034155217518 标准差: 1.7652982332594662\n"
          ]
        },
        {
          "output_type": "execute_result",
          "data": {
            "text/plain": [
              "<matplotlib.axes._subplots.AxesSubplot at 0x7f2a8c20a490>"
            ]
          },
          "metadata": {},
          "execution_count": 30
        },
        {
          "output_type": "display_data",
          "data": {
            "text/plain": [
              "<Figure size 432x288 with 1 Axes>"
            ],
            "image/png": "[encoded data removed]"
          },
          "metadata": {}
        }
      ]
    },
    {
      "cell_type": "code",
      "source": [
        ""
      ],
      "metadata": {
        "id": "fbeyOW-TvaNe"
      },
      "execution_count": null,
      "outputs": []
    }
  ]
}