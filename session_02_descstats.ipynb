{
  "nbformat": 4,
  "nbformat_minor": 0,
  "metadata": {
    "colab": {
      "name": "session-02-descstats.ipynb",
      "provenance": [],
      "authorship_tag": "ABX9TyOklPB5b8TVSAcnKgY+U+xq",
      "include_colab_link": true
    },
    "kernelspec": {
      "name": "python3",
      "display_name": "Python 3"
    },
    "language_info": {
      "name": "python"
    }
  },
  "cells": [
    {
      "cell_type": "markdown",
      "metadata": {
        "id": "view-in-github",
        "colab_type": "text"
      },
      "source": [
        "<a href=\"https://colab.research.google.com/github/jeddyclass/202207.NCUT/blob/main/session_02_descstats.ipynb\" target=\"_parent\"><img src=\"https://colab.research.google.com/assets/colab-badge.svg\" alt=\"Open In Colab\"/></a>"
      ]
    },
    {
      "cell_type": "code",
      "execution_count": 53,
      "metadata": {
        "id": "TFwJ74iYs354"
      },
      "outputs": [],
      "source": [
        "import numpy as np\n",
        "import pandas as pd\n",
        "import matplotlib as mpl\n",
        "import matplotlib.pyplot as plt\n",
        "import seaborn as sns\n",
        "from sklearn.datasets import load_iris\n",
        "import warnings\n",
        "from matplotlib.font_manager import fontManager"
      ]
    },
    {
      "cell_type": "code",
      "source": [
        "!wget -O TaipeiSansTCBeta-Regular.ttf https://drive.google.com/uc?id=1eGAsTN1HBpJAkeVM57_C7ccp7hbgSz3_&export=download\n",
        "sns.set(style='darkgrid')\n",
        "plt.rcParams['axes.unicode_minus']=False\n",
        "fontManager.addfont('TaipeiSansTCBeta-Regular.ttf')\n",
        "mpl.rc('font', family='Taipei Sans TC Beta')\n",
        "plt.rcParams['font.family']='Taipei Sans TC Beta'"
      ],
      "metadata": {
        "colab": {
          "base_uri": "https://localhost:8080/"
        },
        "id": "4-kthEuewv31",
        "outputId": "dfd88a84-c24f-4f40-888f-d021af32aaa1"
      },
      "execution_count": 61,
      "outputs": [
        {
          "output_type": "stream",
          "name": "stdout",
          "text": [
            "--2022-07-10 06:22:32--  https://drive.google.com/uc?id=1eGAsTN1HBpJAkeVM57_C7ccp7hbgSz3_\n",
            "Resolving drive.google.com (drive.google.com)... 74.125.142.101, 74.125.142.102, 74.125.142.100, ...\n",
            "Connecting to drive.google.com (drive.google.com)|74.125.142.101|:443... connected.\n",
            "HTTP request sent, awaiting response... 303 See Other\n",
            "Location: https://doc-0k-9o-docs.googleusercontent.com/docs/securesc/ha0ro937gcuc7l7deffksulhg5h7mbp1/fc54nun4ntsgs30vmfdgqj56sglmndhf/1657434150000/02847987870453524430/*/1eGAsTN1HBpJAkeVM57_C7ccp7hbgSz3_?uuid=273d9fba-397e-4f83-8959-bc4442dcd3e9 [following]\n",
            "Warning: wildcards not supported in HTTP.\n",
            "--2022-07-10 06:22:32--  https://doc-0k-9o-docs.googleusercontent.com/docs/securesc/ha0ro937gcuc7l7deffksulhg5h7mbp1/fc54nun4ntsgs30vmfdgqj56sglmndhf/1657434150000/02847987870453524430/*/1eGAsTN1HBpJAkeVM57_C7ccp7hbgSz3_?uuid=273d9fba-397e-4f83-8959-bc4442dcd3e9\n",
            "Resolving doc-0k-9o-docs.googleusercontent.com (doc-0k-9o-docs.googleusercontent.com)... 74.125.135.132, 2607:f8b0:400e:c01::84\n",
            "Connecting to doc-0k-9o-docs.googleusercontent.com (doc-0k-9o-docs.googleusercontent.com)|74.125.135.132|:443... connected.\n",
            "HTTP request sent, awaiting response... 200 OK\n",
            "Length: 20659344 (20M) [application/x-font-ttf]\n",
            "Saving to: ‘TaipeiSansTCBeta-Regular.ttf’\n",
            "\n",
            "TaipeiSansTCBeta-Re 100%[===================>]  19.70M  --.-KB/s    in 0.09s   \n",
            "\n",
            "2022-07-10 06:22:33 (224 MB/s) - ‘TaipeiSansTCBeta-Regular.ttf’ saved [20659344/20659344]\n",
            "\n"
          ]
        }
      ]
    },
    {
      "cell_type": "code",
      "source": [
        "#warnings.filterwarnings('ignore')"
      ],
      "metadata": {
        "id": "bVcHPr1kuZ8q"
      },
      "execution_count": 100,
      "outputs": []
    },
    {
      "cell_type": "code",
      "source": [
        "#載入數據\n",
        "iris=load_iris()\n",
        "#display(iris)\n",
        "print(iris.data[:10],iris.target[:10])\n",
        "#iris.feature_names:特徵列名稱(sepal lenght/sepal width/petal length/petal width)\n",
        "#iris.target_name:鳶尾花名(setosa/versicolor/virginica)\n",
        "print(iris.feature_names,iris.target_names)"
      ],
      "metadata": {
        "colab": {
          "base_uri": "https://localhost:8080/"
        },
        "id": "7J9DZxj0uc5v",
        "outputId": "5bb732f2-5f35-40b6-c66c-6defcefd1214"
      },
      "execution_count": 101,
      "outputs": [
        {
          "output_type": "stream",
          "name": "stdout",
          "text": [
            "[[5.1 3.5 1.4 0.2]\n",
            " [4.9 3.  1.4 0.2]\n",
            " [4.7 3.2 1.3 0.2]\n",
            " [4.6 3.1 1.5 0.2]\n",
            " [5.  3.6 1.4 0.2]\n",
            " [5.4 3.9 1.7 0.4]\n",
            " [4.6 3.4 1.4 0.3]\n",
            " [5.  3.4 1.5 0.2]\n",
            " [4.4 2.9 1.4 0.2]\n",
            " [4.9 3.1 1.5 0.1]] [0 0 0 0 0 0 0 0 0 0]\n",
            "['sepal length (cm)', 'sepal width (cm)', 'petal length (cm)', 'petal width (cm)'] ['setosa' 'versicolor' 'virginica']\n"
          ]
        }
      ]
    },
    {
      "cell_type": "code",
      "source": [
        "data=np.concatenate([iris.data,iris.target.reshape(-1,1)],axis=1)\n",
        "print(type(data))\n",
        "print(data[:10])\n",
        "print(data.dtype)\n",
        "data=pd.DataFrame(data,\n",
        "columns=['sepal_length','sepal_width','petal_length','petal_width','type'])\n",
        "print(type(data))\n",
        "data.sample(10)\n",
        "print(data.head())\n",
        "data.info()"
      ],
      "metadata": {
        "colab": {
          "base_uri": "https://localhost:8080/"
        },
        "id": "GOs8Y1JJufTA",
        "outputId": "5ec0468d-b6f9-45b9-f54e-7655c2d3744b"
      },
      "execution_count": 102,
      "outputs": [
        {
          "output_type": "stream",
          "name": "stdout",
          "text": [
            "<class 'numpy.ndarray'>\n",
            "[[5.1 3.5 1.4 0.2 0. ]\n",
            " [4.9 3.  1.4 0.2 0. ]\n",
            " [4.7 3.2 1.3 0.2 0. ]\n",
            " [4.6 3.1 1.5 0.2 0. ]\n",
            " [5.  3.6 1.4 0.2 0. ]\n",
            " [5.4 3.9 1.7 0.4 0. ]\n",
            " [4.6 3.4 1.4 0.3 0. ]\n",
            " [5.  3.4 1.5 0.2 0. ]\n",
            " [4.4 2.9 1.4 0.2 0. ]\n",
            " [4.9 3.1 1.5 0.1 0. ]]\n",
            "float64\n",
            "<class 'pandas.core.frame.DataFrame'>\n",
            "   sepal_length  sepal_width  petal_length  petal_width  type\n",
            "0           5.1          3.5           1.4          0.2   0.0\n",
            "1           4.9          3.0           1.4          0.2   0.0\n",
            "2           4.7          3.2           1.3          0.2   0.0\n",
            "3           4.6          3.1           1.5          0.2   0.0\n",
            "4           5.0          3.6           1.4          0.2   0.0\n",
            "<class 'pandas.core.frame.DataFrame'>\n",
            "RangeIndex: 150 entries, 0 to 149\n",
            "Data columns (total 5 columns):\n",
            " #   Column        Non-Null Count  Dtype  \n",
            "---  ------        --------------  -----  \n",
            " 0   sepal_length  150 non-null    float64\n",
            " 1   sepal_width   150 non-null    float64\n",
            " 2   petal_length  150 non-null    float64\n",
            " 3   petal_width   150 non-null    float64\n",
            " 4   type          150 non-null    float64\n",
            "dtypes: float64(5)\n",
            "memory usage: 6.0 KB\n"
          ]
        }
      ]
    },
    {
      "cell_type": "code",
      "source": [
        "#花萼長度_平均值\n",
        "mean=data['sepal_length'].mean()\n",
        "#花萼長度_中位數\n",
        "median=data['sepal_length'].median()\n",
        "#花萼長度_眾數\n",
        "s=data['sepal_length'].mode()\n",
        "\n",
        "print(type(s))\n",
        "#print(s.info())\n",
        "mode=s.iloc[0]\n",
        "print(mean,median,mode)"
      ],
      "metadata": {
        "colab": {
          "base_uri": "https://localhost:8080/"
        },
        "id": "GYcA870Aulaz",
        "outputId": "4d225704-0a5a-41f9-d973-626ce0c688e6"
      },
      "execution_count": 103,
      "outputs": [
        {
          "output_type": "stream",
          "name": "stdout",
          "text": [
            "<class 'pandas.core.series.Series'>\n",
            "5.843333333333334 5.8 5.0\n"
          ]
        }
      ]
    },
    {
      "cell_type": "code",
      "source": [
        "from scipy import stats\n",
        "stats.mode(data['sepal_length']).mode\n",
        "\n",
        "sns.distplot(data['sepal_length'])\n",
        "plt.axvline(mean,ls=\"-\", color='b',label='平均值')\n",
        "plt.axvline(median,ls=\"-\", color='g',label='中位數值')\n",
        "plt.axvline(mean,ls=\"-\", color='r',label='眾數')\n",
        "plt.legend(bbox_to_anchor=(1.02, 1.02), loc='upper left')"
      ],
      "metadata": {
        "colab": {
          "base_uri": "https://localhost:8080/",
          "height": 302
        },
        "id": "q16BSwG0updi",
        "outputId": "78a0efb1-2f53-4774-d86e-7b25c2ad99c3"
      },
      "execution_count": 123,
      "outputs": [
        {
          "output_type": "execute_result",
          "data": {
            "text/plain": [
              "<matplotlib.legend.Legend at 0x7f2a8ab8bd90>"
            ]
          },
          "metadata": {},
          "execution_count": 123
        },
        {
          "output_type": "display_data",
          "data": {
            "text/plain": [
              "<Figure size 432x288 with 1 Axes>"
            ],
            "image/png": "[encoded data removed]"
          },
          "metadata": {}
        }
      ]
    },
    {
      "cell_type": "code",
      "source": [
        "#numpy\n",
        "x = [2, 5, 12, 18, 22, 31, 38, 42, 48]\n",
        "\n",
        "print(np.quantile(x,q=[0.25,0.5,0.75]))\n",
        "print(np.percentile(x,q=[25,50,75]))\n"
      ],
      "metadata": {
        "colab": {
          "base_uri": "https://localhost:8080/"
        },
        "id": "gbFb32k5u57b",
        "outputId": "d1551499-2fd9-4b01-fb43-d1e4186d56ab"
      },
      "execution_count": 124,
      "outputs": [
        {
          "output_type": "stream",
          "name": "stdout",
          "text": [
            "[12. 22. 38.]\n",
            "[12. 22. 38.]\n"
          ]
        }
      ]
    },
    {
      "cell_type": "code",
      "source": [
        "#pandas\n",
        "x = [2, 5, 12, 18, 22, 31, 38, 42, 48]\n",
        "s=pd.Series(x)\n",
        "print(s.describe())"
      ],
      "metadata": {
        "colab": {
          "base_uri": "https://localhost:8080/"
        },
        "id": "uW2Saw-xu9OU",
        "outputId": "2d8824e0-c0c8-4a93-9b7f-3d340c88b269"
      },
      "execution_count": 125,
      "outputs": [
        {
          "output_type": "stream",
          "name": "stdout",
          "text": [
            "count     9.000000\n",
            "mean     24.222222\n",
            "std      16.483156\n",
            "min       2.000000\n",
            "25%      12.000000\n",
            "50%      22.000000\n",
            "75%      38.000000\n",
            "max      48.000000\n",
            "dtype: float64\n"
          ]
        }
      ]
    },
    {
      "cell_type": "code",
      "source": [
        "#變異數\n",
        "var=data['sepal_length'].var()\n",
        "#標準差\n",
        "std=data['sepal_length'].std()\n",
        "print(var, std)"
      ],
      "metadata": {
        "colab": {
          "base_uri": "https://localhost:8080/"
        },
        "id": "yrI9I4Vtu_j2",
        "outputId": "45b0d249-3114-450c-e17a-a87a767c9e4c"
      },
      "execution_count": 126,
      "outputs": [
        {
          "output_type": "stream",
          "name": "stdout",
          "text": [
            "0.6856935123042507 0.828066127977863\n"
          ]
        }
      ]
    },
    {
      "cell_type": "code",
      "source": [
        "#左偏模擬\n",
        "t1=np.random.randint(1,11,size=200)\n",
        "t2=np.random.randint(11,21,size=800)\n",
        "t3=np.concatenate([t1,t2])\n",
        "left_skew=pd.Series(t3)\n",
        "#右偏模擬\n",
        "t1=np.random.randint(1,11,size=800)\n",
        "t2=np.random.randint(11,21,size=200)\n",
        "t3=np.concatenate([t1,t2])\n",
        "right_skew=pd.Series(t3)"
      ],
      "metadata": {
        "id": "p06cnZ-EvF-C"
      },
      "execution_count": 118,
      "outputs": []
    },
    {
      "cell_type": "code",
      "source": [
        "#偏度\n",
        "fig, ax = plt.subplots()\n",
        "print(left_skew.skew(),right_skew.skew())\n",
        "\n",
        "sns.kdeplot(left_skew, ax=ax, shade=True, label='左偏')\n",
        "sns.kdeplot(right_skew, ax=ax, shade=True, label='右偏')\n",
        "ax.legend(bbox_to_anchor=(1.02, 1.02), loc='upper left')"
      ],
      "metadata": {
        "colab": {
          "base_uri": "https://localhost:8080/",
          "height": 303
        },
        "id": "i-W-XnMrvU-A",
        "outputId": "c7ab1083-f8e6-4594-9d2c-30f0b50ae744"
      },
      "execution_count": 119,
      "outputs": [
        {
          "output_type": "stream",
          "name": "stdout",
          "text": [
            "-0.7270917013487257 0.8235850017456586\n"
          ]
        },
        {
          "output_type": "execute_result",
          "data": {
            "text/plain": [
              "<matplotlib.legend.Legend at 0x7f2a8add2dd0>"
            ]
          },
          "metadata": {},
          "execution_count": 119
        },
        {
          "output_type": "display_data",
          "data": {
            "text/plain": [
              "<Figure size 432x288 with 1 Axes>"
            ],
            "image/png": "[encoded data removed]"
          },
          "metadata": {}
        }
      ]
    },
    {
      "cell_type": "code",
      "source": [
        "#峰度\n",
        "standard_normal=pd.Series(np.random.normal(0,1,size=100000))\n",
        "print('標準常態分佈峰度：',standard_normal.kurt(), '標準差：',standard_normal.std())\n",
        "print('花萼寬度峰度：',data['sepal_width'].kurt(),'標準差：',data['sepal_width'].std())\n",
        "print('花瓣長度峰度：',data['petal_length'].kurt(),'標準差：',data['petal_length'].std())\n",
        "\n",
        "fig, ax = plt.subplots()\n",
        "\n",
        "sns.kdeplot(standard_normal, ax=ax, color='red', fill=True, label='標準常態分佈')\n",
        "sns.kdeplot(data['sepal_width'], ax=ax, label='花萼寬度')\n",
        "sns.kdeplot(data['petal_length'], ax=ax, label='花瓣長度')\n",
        "\n",
        "ax.legend(bbox_to_anchor=(1.02, 1.02), loc='upper left')\n",
        "plt.tight_layout()\n",
        "plt.show()"
      ],
      "metadata": {
        "colab": {
          "base_uri": "https://localhost:8080/",
          "height": 345
        },
        "id": "D--nu_oWvXYm",
        "outputId": "0b1054d0-82cc-4b0e-9124-e5472a0c145f"
      },
      "execution_count": 94,
      "outputs": [
        {
          "output_type": "stream",
          "name": "stdout",
          "text": [
            "標準常態分佈峰度： -0.014418795479453461 標準差： 0.9978832821614515\n",
            "花萼寬度峰度： 0.2282490424681929 標準差： 0.4358662849366982\n",
            "花瓣長度峰度： -1.4021034155217518 標準差： 1.7652982332594662\n"
          ]
        },
        {
          "output_type": "display_data",
          "data": {
            "text/plain": [
              "<Figure size 432x288 with 1 Axes>"
            ],
            "image/png": "[encoded data removed]"
          },
          "metadata": {}
        }
      ]
    },
    {
      "cell_type": "code",
      "source": [
        ""
      ],
      "metadata": {
        "id": "fbeyOW-TvaNe"
      },
      "execution_count": null,
      "outputs": []
    }
  ]
}